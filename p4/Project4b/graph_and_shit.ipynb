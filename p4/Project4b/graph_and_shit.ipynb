{
 "cells": [
  {
   "cell_type": "code",
   "execution_count": 18,
   "metadata": {
    "collapsed": false
   },
   "outputs": [],
   "source": [
    "import pandas as pd\n",
    "%matplotlib inline\n",
    "import matplotlib.pyplot as plt"
   ]
  },
  {
   "cell_type": "code",
   "execution_count": 19,
   "metadata": {
    "collapsed": false
   },
   "outputs": [],
   "source": [
    "df_car = pd.read_csv('q6_result_car.txt')"
   ]
  },
  {
   "cell_type": "code",
   "execution_count": 20,
   "metadata": {
    "collapsed": false
   },
   "outputs": [],
   "source": [
    "df_car.columns = ['Num Hidden Layer', 'Max Car', 'Average Car', 'STD Car']"
   ]
  },
  {
   "cell_type": "code",
   "execution_count": 21,
   "metadata": {
    "collapsed": false
   },
   "outputs": [
    {
     "data": {
      "text/html": [
       "<div>\n",
       "<table border=\"1\" class=\"dataframe\">\n",
       "  <thead>\n",
       "    <tr style=\"text-align: right;\">\n",
       "      <th></th>\n",
       "      <th>Num Hidden Layer</th>\n",
       "      <th>Max Car</th>\n",
       "      <th>Average Car</th>\n",
       "      <th>STD Car</th>\n",
       "    </tr>\n",
       "  </thead>\n",
       "  <tbody>\n",
       "    <tr>\n",
       "      <th>0</th>\n",
       "      <td>[0]</td>\n",
       "      <td>0.692408</td>\n",
       "      <td>0.692408</td>\n",
       "      <td>0.000000</td>\n",
       "    </tr>\n",
       "    <tr>\n",
       "      <th>1</th>\n",
       "      <td>[5]</td>\n",
       "      <td>0.844241</td>\n",
       "      <td>0.826440</td>\n",
       "      <td>0.011877</td>\n",
       "    </tr>\n",
       "    <tr>\n",
       "      <th>2</th>\n",
       "      <td>[10]</td>\n",
       "      <td>0.826571</td>\n",
       "      <td>0.816885</td>\n",
       "      <td>0.005726</td>\n",
       "    </tr>\n",
       "    <tr>\n",
       "      <th>3</th>\n",
       "      <td>[15]</td>\n",
       "      <td>0.835733</td>\n",
       "      <td>0.820681</td>\n",
       "      <td>0.013444</td>\n",
       "    </tr>\n",
       "    <tr>\n",
       "      <th>4</th>\n",
       "      <td>[20]</td>\n",
       "      <td>0.830497</td>\n",
       "      <td>0.821073</td>\n",
       "      <td>0.005294</td>\n",
       "    </tr>\n",
       "    <tr>\n",
       "      <th>5</th>\n",
       "      <td>[25]</td>\n",
       "      <td>0.825262</td>\n",
       "      <td>0.815445</td>\n",
       "      <td>0.006725</td>\n",
       "    </tr>\n",
       "    <tr>\n",
       "      <th>6</th>\n",
       "      <td>[30]</td>\n",
       "      <td>0.823298</td>\n",
       "      <td>0.811649</td>\n",
       "      <td>0.010384</td>\n",
       "    </tr>\n",
       "    <tr>\n",
       "      <th>7</th>\n",
       "      <td>[35]</td>\n",
       "      <td>0.827225</td>\n",
       "      <td>0.818586</td>\n",
       "      <td>0.005258</td>\n",
       "    </tr>\n",
       "    <tr>\n",
       "      <th>8</th>\n",
       "      <td>[40]</td>\n",
       "      <td>0.818717</td>\n",
       "      <td>0.809817</td>\n",
       "      <td>0.006983</td>\n",
       "    </tr>\n",
       "  </tbody>\n",
       "</table>\n",
       "</div>"
      ],
      "text/plain": [
       "  Num Hidden Layer   Max Car  Average Car   STD Car\n",
       "0              [0]  0.692408     0.692408  0.000000\n",
       "1              [5]  0.844241     0.826440  0.011877\n",
       "2             [10]  0.826571     0.816885  0.005726\n",
       "3             [15]  0.835733     0.820681  0.013444\n",
       "4             [20]  0.830497     0.821073  0.005294\n",
       "5             [25]  0.825262     0.815445  0.006725\n",
       "6             [30]  0.823298     0.811649  0.010384\n",
       "7             [35]  0.827225     0.818586  0.005258\n",
       "8             [40]  0.818717     0.809817  0.006983"
      ]
     },
     "execution_count": 21,
     "metadata": {},
     "output_type": "execute_result"
    }
   ],
   "source": [
    "df_car"
   ]
  },
  {
   "cell_type": "code",
   "execution_count": 22,
   "metadata": {
    "collapsed": false
   },
   "outputs": [],
   "source": [
    "df_pen = pd.read_csv('q6_result_pen.txt')"
   ]
  },
  {
   "cell_type": "code",
   "execution_count": 23,
   "metadata": {
    "collapsed": false
   },
   "outputs": [
    {
     "data": {
      "text/html": [
       "<div>\n",
       "<table border=\"1\" class=\"dataframe\">\n",
       "  <thead>\n",
       "    <tr style=\"text-align: right;\">\n",
       "      <th></th>\n",
       "      <th>Hidden Layer</th>\n",
       "      <th>Max</th>\n",
       "      <th>Mean</th>\n",
       "      <th>STD</th>\n",
       "    </tr>\n",
       "  </thead>\n",
       "  <tbody>\n",
       "    <tr>\n",
       "      <th>0</th>\n",
       "      <td>[0]</td>\n",
       "      <td>0.000000</td>\n",
       "      <td>0.000000</td>\n",
       "      <td>0.000000</td>\n",
       "    </tr>\n",
       "    <tr>\n",
       "      <th>1</th>\n",
       "      <td>[5]</td>\n",
       "      <td>0.857347</td>\n",
       "      <td>0.840023</td>\n",
       "      <td>0.009853</td>\n",
       "    </tr>\n",
       "    <tr>\n",
       "      <th>2</th>\n",
       "      <td>[10]</td>\n",
       "      <td>0.897370</td>\n",
       "      <td>0.890509</td>\n",
       "      <td>0.004971</td>\n",
       "    </tr>\n",
       "    <tr>\n",
       "      <th>3</th>\n",
       "      <td>[15]</td>\n",
       "      <td>0.901944</td>\n",
       "      <td>0.892739</td>\n",
       "      <td>0.006500</td>\n",
       "    </tr>\n",
       "    <tr>\n",
       "      <th>4</th>\n",
       "      <td>[20]</td>\n",
       "      <td>0.908805</td>\n",
       "      <td>0.905889</td>\n",
       "      <td>0.002180</td>\n",
       "    </tr>\n",
       "    <tr>\n",
       "      <th>5</th>\n",
       "      <td>[25]</td>\n",
       "      <td>0.909091</td>\n",
       "      <td>0.903030</td>\n",
       "      <td>0.003764</td>\n",
       "    </tr>\n",
       "    <tr>\n",
       "      <th>6</th>\n",
       "      <td>[30]</td>\n",
       "      <td>0.905946</td>\n",
       "      <td>0.902630</td>\n",
       "      <td>0.002298</td>\n",
       "    </tr>\n",
       "    <tr>\n",
       "      <th>7</th>\n",
       "      <td>[35]</td>\n",
       "      <td>0.909377</td>\n",
       "      <td>0.903145</td>\n",
       "      <td>0.007149</td>\n",
       "    </tr>\n",
       "    <tr>\n",
       "      <th>8</th>\n",
       "      <td>[40]</td>\n",
       "      <td>0.905374</td>\n",
       "      <td>0.901544</td>\n",
       "      <td>0.003462</td>\n",
       "    </tr>\n",
       "  </tbody>\n",
       "</table>\n",
       "</div>"
      ],
      "text/plain": [
       "  Hidden Layer       Max      Mean       STD\n",
       "0          [0]  0.000000  0.000000  0.000000\n",
       "1          [5]  0.857347  0.840023  0.009853\n",
       "2         [10]  0.897370  0.890509  0.004971\n",
       "3         [15]  0.901944  0.892739  0.006500\n",
       "4         [20]  0.908805  0.905889  0.002180\n",
       "5         [25]  0.909091  0.903030  0.003764\n",
       "6         [30]  0.905946  0.902630  0.002298\n",
       "7         [35]  0.909377  0.903145  0.007149\n",
       "8         [40]  0.905374  0.901544  0.003462"
      ]
     },
     "execution_count": 23,
     "metadata": {},
     "output_type": "execute_result"
    }
   ],
   "source": [
    "df_pen"
   ]
  },
  {
   "cell_type": "code",
   "execution_count": 24,
   "metadata": {
    "collapsed": true
   },
   "outputs": [],
   "source": [
    "df_pen.columns = ['Num Hidden Layer', 'Max Pen', 'Average Pen', 'STD Pen']"
   ]
  },
  {
   "cell_type": "code",
   "execution_count": 25,
   "metadata": {
    "collapsed": false
   },
   "outputs": [
    {
     "data": {
      "text/html": [
       "<div>\n",
       "<table border=\"1\" class=\"dataframe\">\n",
       "  <thead>\n",
       "    <tr style=\"text-align: right;\">\n",
       "      <th></th>\n",
       "      <th>Num Hidden Layer</th>\n",
       "      <th>Max Pen</th>\n",
       "      <th>Average Pen</th>\n",
       "      <th>STD Pen</th>\n",
       "    </tr>\n",
       "  </thead>\n",
       "  <tbody>\n",
       "    <tr>\n",
       "      <th>0</th>\n",
       "      <td>[0]</td>\n",
       "      <td>0.000000</td>\n",
       "      <td>0.000000</td>\n",
       "      <td>0.000000</td>\n",
       "    </tr>\n",
       "    <tr>\n",
       "      <th>1</th>\n",
       "      <td>[5]</td>\n",
       "      <td>0.857347</td>\n",
       "      <td>0.840023</td>\n",
       "      <td>0.009853</td>\n",
       "    </tr>\n",
       "    <tr>\n",
       "      <th>2</th>\n",
       "      <td>[10]</td>\n",
       "      <td>0.897370</td>\n",
       "      <td>0.890509</td>\n",
       "      <td>0.004971</td>\n",
       "    </tr>\n",
       "    <tr>\n",
       "      <th>3</th>\n",
       "      <td>[15]</td>\n",
       "      <td>0.901944</td>\n",
       "      <td>0.892739</td>\n",
       "      <td>0.006500</td>\n",
       "    </tr>\n",
       "    <tr>\n",
       "      <th>4</th>\n",
       "      <td>[20]</td>\n",
       "      <td>0.908805</td>\n",
       "      <td>0.905889</td>\n",
       "      <td>0.002180</td>\n",
       "    </tr>\n",
       "    <tr>\n",
       "      <th>5</th>\n",
       "      <td>[25]</td>\n",
       "      <td>0.909091</td>\n",
       "      <td>0.903030</td>\n",
       "      <td>0.003764</td>\n",
       "    </tr>\n",
       "    <tr>\n",
       "      <th>6</th>\n",
       "      <td>[30]</td>\n",
       "      <td>0.905946</td>\n",
       "      <td>0.902630</td>\n",
       "      <td>0.002298</td>\n",
       "    </tr>\n",
       "    <tr>\n",
       "      <th>7</th>\n",
       "      <td>[35]</td>\n",
       "      <td>0.909377</td>\n",
       "      <td>0.903145</td>\n",
       "      <td>0.007149</td>\n",
       "    </tr>\n",
       "    <tr>\n",
       "      <th>8</th>\n",
       "      <td>[40]</td>\n",
       "      <td>0.905374</td>\n",
       "      <td>0.901544</td>\n",
       "      <td>0.003462</td>\n",
       "    </tr>\n",
       "  </tbody>\n",
       "</table>\n",
       "</div>"
      ],
      "text/plain": [
       "  Num Hidden Layer   Max Pen  Average Pen   STD Pen\n",
       "0              [0]  0.000000     0.000000  0.000000\n",
       "1              [5]  0.857347     0.840023  0.009853\n",
       "2             [10]  0.897370     0.890509  0.004971\n",
       "3             [15]  0.901944     0.892739  0.006500\n",
       "4             [20]  0.908805     0.905889  0.002180\n",
       "5             [25]  0.909091     0.903030  0.003764\n",
       "6             [30]  0.905946     0.902630  0.002298\n",
       "7             [35]  0.909377     0.903145  0.007149\n",
       "8             [40]  0.905374     0.901544  0.003462"
      ]
     },
     "execution_count": 25,
     "metadata": {},
     "output_type": "execute_result"
    }
   ],
   "source": [
    "df_pen"
   ]
  },
  {
   "cell_type": "code",
   "execution_count": 26,
   "metadata": {
    "collapsed": false
   },
   "outputs": [],
   "source": [
    "df_pen['Max Car'] = df_car['Max Car']"
   ]
  },
  {
   "cell_type": "code",
   "execution_count": 27,
   "metadata": {
    "collapsed": false
   },
   "outputs": [
    {
     "data": {
      "text/html": [
       "<div>\n",
       "<table border=\"1\" class=\"dataframe\">\n",
       "  <thead>\n",
       "    <tr style=\"text-align: right;\">\n",
       "      <th></th>\n",
       "      <th>Num Hidden Layer</th>\n",
       "      <th>Max Pen</th>\n",
       "      <th>Average Pen</th>\n",
       "      <th>STD Pen</th>\n",
       "      <th>Max Car</th>\n",
       "    </tr>\n",
       "  </thead>\n",
       "  <tbody>\n",
       "    <tr>\n",
       "      <th>0</th>\n",
       "      <td>[0]</td>\n",
       "      <td>0.000000</td>\n",
       "      <td>0.000000</td>\n",
       "      <td>0.000000</td>\n",
       "      <td>0.692408</td>\n",
       "    </tr>\n",
       "    <tr>\n",
       "      <th>1</th>\n",
       "      <td>[5]</td>\n",
       "      <td>0.857347</td>\n",
       "      <td>0.840023</td>\n",
       "      <td>0.009853</td>\n",
       "      <td>0.844241</td>\n",
       "    </tr>\n",
       "    <tr>\n",
       "      <th>2</th>\n",
       "      <td>[10]</td>\n",
       "      <td>0.897370</td>\n",
       "      <td>0.890509</td>\n",
       "      <td>0.004971</td>\n",
       "      <td>0.826571</td>\n",
       "    </tr>\n",
       "    <tr>\n",
       "      <th>3</th>\n",
       "      <td>[15]</td>\n",
       "      <td>0.901944</td>\n",
       "      <td>0.892739</td>\n",
       "      <td>0.006500</td>\n",
       "      <td>0.835733</td>\n",
       "    </tr>\n",
       "    <tr>\n",
       "      <th>4</th>\n",
       "      <td>[20]</td>\n",
       "      <td>0.908805</td>\n",
       "      <td>0.905889</td>\n",
       "      <td>0.002180</td>\n",
       "      <td>0.830497</td>\n",
       "    </tr>\n",
       "    <tr>\n",
       "      <th>5</th>\n",
       "      <td>[25]</td>\n",
       "      <td>0.909091</td>\n",
       "      <td>0.903030</td>\n",
       "      <td>0.003764</td>\n",
       "      <td>0.825262</td>\n",
       "    </tr>\n",
       "    <tr>\n",
       "      <th>6</th>\n",
       "      <td>[30]</td>\n",
       "      <td>0.905946</td>\n",
       "      <td>0.902630</td>\n",
       "      <td>0.002298</td>\n",
       "      <td>0.823298</td>\n",
       "    </tr>\n",
       "    <tr>\n",
       "      <th>7</th>\n",
       "      <td>[35]</td>\n",
       "      <td>0.909377</td>\n",
       "      <td>0.903145</td>\n",
       "      <td>0.007149</td>\n",
       "      <td>0.827225</td>\n",
       "    </tr>\n",
       "    <tr>\n",
       "      <th>8</th>\n",
       "      <td>[40]</td>\n",
       "      <td>0.905374</td>\n",
       "      <td>0.901544</td>\n",
       "      <td>0.003462</td>\n",
       "      <td>0.818717</td>\n",
       "    </tr>\n",
       "  </tbody>\n",
       "</table>\n",
       "</div>"
      ],
      "text/plain": [
       "  Num Hidden Layer   Max Pen  Average Pen   STD Pen   Max Car\n",
       "0              [0]  0.000000     0.000000  0.000000  0.692408\n",
       "1              [5]  0.857347     0.840023  0.009853  0.844241\n",
       "2             [10]  0.897370     0.890509  0.004971  0.826571\n",
       "3             [15]  0.901944     0.892739  0.006500  0.835733\n",
       "4             [20]  0.908805     0.905889  0.002180  0.830497\n",
       "5             [25]  0.909091     0.903030  0.003764  0.825262\n",
       "6             [30]  0.905946     0.902630  0.002298  0.823298\n",
       "7             [35]  0.909377     0.903145  0.007149  0.827225\n",
       "8             [40]  0.905374     0.901544  0.003462  0.818717"
      ]
     },
     "execution_count": 27,
     "metadata": {},
     "output_type": "execute_result"
    }
   ],
   "source": [
    "df_pen"
   ]
  },
  {
   "cell_type": "code",
   "execution_count": 28,
   "metadata": {
    "collapsed": true
   },
   "outputs": [],
   "source": [
    "df_pen['Average Car'] = df_car['Average Car']"
   ]
  },
  {
   "cell_type": "code",
   "execution_count": 29,
   "metadata": {
    "collapsed": true
   },
   "outputs": [],
   "source": [
    "df_pen['STD Car'] = df_car['STD Car']"
   ]
  },
  {
   "cell_type": "code",
   "execution_count": 30,
   "metadata": {
    "collapsed": false
   },
   "outputs": [
    {
     "data": {
      "text/html": [
       "<div>\n",
       "<table border=\"1\" class=\"dataframe\">\n",
       "  <thead>\n",
       "    <tr style=\"text-align: right;\">\n",
       "      <th></th>\n",
       "      <th>Num Hidden Layer</th>\n",
       "      <th>Max Pen</th>\n",
       "      <th>Average Pen</th>\n",
       "      <th>STD Pen</th>\n",
       "      <th>Max Car</th>\n",
       "      <th>Average Car</th>\n",
       "      <th>STD Car</th>\n",
       "    </tr>\n",
       "  </thead>\n",
       "  <tbody>\n",
       "    <tr>\n",
       "      <th>0</th>\n",
       "      <td>[0]</td>\n",
       "      <td>0.000000</td>\n",
       "      <td>0.000000</td>\n",
       "      <td>0.000000</td>\n",
       "      <td>0.692408</td>\n",
       "      <td>0.692408</td>\n",
       "      <td>0.000000</td>\n",
       "    </tr>\n",
       "    <tr>\n",
       "      <th>1</th>\n",
       "      <td>[5]</td>\n",
       "      <td>0.857347</td>\n",
       "      <td>0.840023</td>\n",
       "      <td>0.009853</td>\n",
       "      <td>0.844241</td>\n",
       "      <td>0.826440</td>\n",
       "      <td>0.011877</td>\n",
       "    </tr>\n",
       "    <tr>\n",
       "      <th>2</th>\n",
       "      <td>[10]</td>\n",
       "      <td>0.897370</td>\n",
       "      <td>0.890509</td>\n",
       "      <td>0.004971</td>\n",
       "      <td>0.826571</td>\n",
       "      <td>0.816885</td>\n",
       "      <td>0.005726</td>\n",
       "    </tr>\n",
       "    <tr>\n",
       "      <th>3</th>\n",
       "      <td>[15]</td>\n",
       "      <td>0.901944</td>\n",
       "      <td>0.892739</td>\n",
       "      <td>0.006500</td>\n",
       "      <td>0.835733</td>\n",
       "      <td>0.820681</td>\n",
       "      <td>0.013444</td>\n",
       "    </tr>\n",
       "    <tr>\n",
       "      <th>4</th>\n",
       "      <td>[20]</td>\n",
       "      <td>0.908805</td>\n",
       "      <td>0.905889</td>\n",
       "      <td>0.002180</td>\n",
       "      <td>0.830497</td>\n",
       "      <td>0.821073</td>\n",
       "      <td>0.005294</td>\n",
       "    </tr>\n",
       "    <tr>\n",
       "      <th>5</th>\n",
       "      <td>[25]</td>\n",
       "      <td>0.909091</td>\n",
       "      <td>0.903030</td>\n",
       "      <td>0.003764</td>\n",
       "      <td>0.825262</td>\n",
       "      <td>0.815445</td>\n",
       "      <td>0.006725</td>\n",
       "    </tr>\n",
       "    <tr>\n",
       "      <th>6</th>\n",
       "      <td>[30]</td>\n",
       "      <td>0.905946</td>\n",
       "      <td>0.902630</td>\n",
       "      <td>0.002298</td>\n",
       "      <td>0.823298</td>\n",
       "      <td>0.811649</td>\n",
       "      <td>0.010384</td>\n",
       "    </tr>\n",
       "    <tr>\n",
       "      <th>7</th>\n",
       "      <td>[35]</td>\n",
       "      <td>0.909377</td>\n",
       "      <td>0.903145</td>\n",
       "      <td>0.007149</td>\n",
       "      <td>0.827225</td>\n",
       "      <td>0.818586</td>\n",
       "      <td>0.005258</td>\n",
       "    </tr>\n",
       "    <tr>\n",
       "      <th>8</th>\n",
       "      <td>[40]</td>\n",
       "      <td>0.905374</td>\n",
       "      <td>0.901544</td>\n",
       "      <td>0.003462</td>\n",
       "      <td>0.818717</td>\n",
       "      <td>0.809817</td>\n",
       "      <td>0.006983</td>\n",
       "    </tr>\n",
       "  </tbody>\n",
       "</table>\n",
       "</div>"
      ],
      "text/plain": [
       "  Num Hidden Layer   Max Pen  Average Pen   STD Pen   Max Car  Average Car  \\\n",
       "0              [0]  0.000000     0.000000  0.000000  0.692408     0.692408   \n",
       "1              [5]  0.857347     0.840023  0.009853  0.844241     0.826440   \n",
       "2             [10]  0.897370     0.890509  0.004971  0.826571     0.816885   \n",
       "3             [15]  0.901944     0.892739  0.006500  0.835733     0.820681   \n",
       "4             [20]  0.908805     0.905889  0.002180  0.830497     0.821073   \n",
       "5             [25]  0.909091     0.903030  0.003764  0.825262     0.815445   \n",
       "6             [30]  0.905946     0.902630  0.002298  0.823298     0.811649   \n",
       "7             [35]  0.909377     0.903145  0.007149  0.827225     0.818586   \n",
       "8             [40]  0.905374     0.901544  0.003462  0.818717     0.809817   \n",
       "\n",
       "    STD Car  \n",
       "0  0.000000  \n",
       "1  0.011877  \n",
       "2  0.005726  \n",
       "3  0.013444  \n",
       "4  0.005294  \n",
       "5  0.006725  \n",
       "6  0.010384  \n",
       "7  0.005258  \n",
       "8  0.006983  "
      ]
     },
     "execution_count": 30,
     "metadata": {},
     "output_type": "execute_result"
    }
   ],
   "source": [
    "df_pen\n"
   ]
  },
  {
   "cell_type": "code",
   "execution_count": 31,
   "metadata": {
    "collapsed": false
   },
   "outputs": [],
   "source": [
    "df_merged = df_pen[['Num Hidden Layer', 'Max Pen', 'Max Car', 'Average Pen', 'Average Car', 'STD Pen', 'STD Car']]\n"
   ]
  },
  {
   "cell_type": "code",
   "execution_count": 40,
   "metadata": {
    "collapsed": false
   },
   "outputs": [],
   "source": [
    "df_merged = df_merged[['Num Hidden Layer', 'Max Pen', 'Max Car', 'Average Pen', 'Average Car', 'STD Pen', 'STD Car']]\n",
    "df_merged.columns = [['Num Hidden Layer', 'Max Pen', 'Max Car', 'Average Pen Accuracy', 'Average Car Accuracy', 'STD Pen', 'STD Car']]"
   ]
  },
  {
   "cell_type": "code",
   "execution_count": 41,
   "metadata": {
    "collapsed": false
   },
   "outputs": [
    {
     "data": {
      "text/html": [
       "<div>\n",
       "<table border=\"1\" class=\"dataframe\">\n",
       "  <thead>\n",
       "    <tr style=\"text-align: right;\">\n",
       "      <th></th>\n",
       "      <th>Max Pen</th>\n",
       "      <th>Max Car</th>\n",
       "      <th>Average Pen Accuracy</th>\n",
       "      <th>Average Car Accuracy</th>\n",
       "      <th>STD Pen</th>\n",
       "      <th>STD Car</th>\n",
       "    </tr>\n",
       "    <tr>\n",
       "      <th>Num Hidden Layer</th>\n",
       "      <th></th>\n",
       "      <th></th>\n",
       "      <th></th>\n",
       "      <th></th>\n",
       "      <th></th>\n",
       "      <th></th>\n",
       "    </tr>\n",
       "  </thead>\n",
       "  <tbody>\n",
       "    <tr>\n",
       "      <th>[0]</th>\n",
       "      <td>0.000000</td>\n",
       "      <td>0.692408</td>\n",
       "      <td>0.000000</td>\n",
       "      <td>0.692408</td>\n",
       "      <td>0.000000</td>\n",
       "      <td>0.000000</td>\n",
       "    </tr>\n",
       "    <tr>\n",
       "      <th>[5]</th>\n",
       "      <td>0.857347</td>\n",
       "      <td>0.844241</td>\n",
       "      <td>0.840023</td>\n",
       "      <td>0.826440</td>\n",
       "      <td>0.009853</td>\n",
       "      <td>0.011877</td>\n",
       "    </tr>\n",
       "    <tr>\n",
       "      <th>[10]</th>\n",
       "      <td>0.897370</td>\n",
       "      <td>0.826571</td>\n",
       "      <td>0.890509</td>\n",
       "      <td>0.816885</td>\n",
       "      <td>0.004971</td>\n",
       "      <td>0.005726</td>\n",
       "    </tr>\n",
       "    <tr>\n",
       "      <th>[15]</th>\n",
       "      <td>0.901944</td>\n",
       "      <td>0.835733</td>\n",
       "      <td>0.892739</td>\n",
       "      <td>0.820681</td>\n",
       "      <td>0.006500</td>\n",
       "      <td>0.013444</td>\n",
       "    </tr>\n",
       "    <tr>\n",
       "      <th>[20]</th>\n",
       "      <td>0.908805</td>\n",
       "      <td>0.830497</td>\n",
       "      <td>0.905889</td>\n",
       "      <td>0.821073</td>\n",
       "      <td>0.002180</td>\n",
       "      <td>0.005294</td>\n",
       "    </tr>\n",
       "    <tr>\n",
       "      <th>[25]</th>\n",
       "      <td>0.909091</td>\n",
       "      <td>0.825262</td>\n",
       "      <td>0.903030</td>\n",
       "      <td>0.815445</td>\n",
       "      <td>0.003764</td>\n",
       "      <td>0.006725</td>\n",
       "    </tr>\n",
       "    <tr>\n",
       "      <th>[30]</th>\n",
       "      <td>0.905946</td>\n",
       "      <td>0.823298</td>\n",
       "      <td>0.902630</td>\n",
       "      <td>0.811649</td>\n",
       "      <td>0.002298</td>\n",
       "      <td>0.010384</td>\n",
       "    </tr>\n",
       "    <tr>\n",
       "      <th>[35]</th>\n",
       "      <td>0.909377</td>\n",
       "      <td>0.827225</td>\n",
       "      <td>0.903145</td>\n",
       "      <td>0.818586</td>\n",
       "      <td>0.007149</td>\n",
       "      <td>0.005258</td>\n",
       "    </tr>\n",
       "    <tr>\n",
       "      <th>[40]</th>\n",
       "      <td>0.905374</td>\n",
       "      <td>0.818717</td>\n",
       "      <td>0.901544</td>\n",
       "      <td>0.809817</td>\n",
       "      <td>0.003462</td>\n",
       "      <td>0.006983</td>\n",
       "    </tr>\n",
       "  </tbody>\n",
       "</table>\n",
       "</div>"
      ],
      "text/plain": [
       "                   Max Pen   Max Car  Average Pen Accuracy  \\\n",
       "Num Hidden Layer                                             \n",
       "[0]               0.000000  0.692408              0.000000   \n",
       "[5]               0.857347  0.844241              0.840023   \n",
       "[10]              0.897370  0.826571              0.890509   \n",
       "[15]              0.901944  0.835733              0.892739   \n",
       "[20]              0.908805  0.830497              0.905889   \n",
       "[25]              0.909091  0.825262              0.903030   \n",
       "[30]              0.905946  0.823298              0.902630   \n",
       "[35]              0.909377  0.827225              0.903145   \n",
       "[40]              0.905374  0.818717              0.901544   \n",
       "\n",
       "                  Average Car Accuracy   STD Pen   STD Car  \n",
       "Num Hidden Layer                                            \n",
       "[0]                           0.692408  0.000000  0.000000  \n",
       "[5]                           0.826440  0.009853  0.011877  \n",
       "[10]                          0.816885  0.004971  0.005726  \n",
       "[15]                          0.820681  0.006500  0.013444  \n",
       "[20]                          0.821073  0.002180  0.005294  \n",
       "[25]                          0.815445  0.003764  0.006725  \n",
       "[30]                          0.811649  0.002298  0.010384  \n",
       "[35]                          0.818586  0.007149  0.005258  \n",
       "[40]                          0.809817  0.003462  0.006983  "
      ]
     },
     "execution_count": 41,
     "metadata": {},
     "output_type": "execute_result"
    }
   ],
   "source": [
    "df_merged.set_index('Num Hidden Layer')"
   ]
  },
  {
   "cell_type": "code",
   "execution_count": 42,
   "metadata": {
    "collapsed": false
   },
   "outputs": [
    {
     "data": {
      "text/plain": [
       "<matplotlib.axes._subplots.AxesSubplot at 0xb4c06d8>"
      ]
     },
     "execution_count": 42,
     "metadata": {},
     "output_type": "execute_result"
    },
    {
     "data": {
      "image/png": "[encoded data removed]",
      "text/plain": [
       "<matplotlib.figure.Figure at 0xb4c0fd0>"
      ]
     },
     "metadata": {},
     "output_type": "display_data"
    }
   ],
   "source": [
    "df_merged.plot(x='Num Hidden Layer', y=['Average Pen Accuracy', 'Average Car Accuracy'])"
   ]
  },
  {
   "cell_type": "code",
   "execution_count": null,
   "metadata": {
    "collapsed": true
   },
   "outputs": [],
   "source": []
  },
  {
   "cell_type": "code",
   "execution_count": null,
   "metadata": {
    "collapsed": true
   },
   "outputs": [],
   "source": []
  }
 ],
 "metadata": {
  "anaconda-cloud": {},
  "kernelspec": {
   "display_name": "Python [conda root]",
   "language": "python",
   "name": "conda-root-py"
  },
  "language_info": {
   "codemirror_mode": {
    "name": "ipython",
    "version": 2
   },
   "file_extension": ".py",
   "mimetype": "text/x-python",
   "name": "python",
   "nbconvert_exporter": "python",
   "pygments_lexer": "ipython2",
   "version": "2.7.12"
  }
 },
 "nbformat": 4,
 "nbformat_minor": 1
}
